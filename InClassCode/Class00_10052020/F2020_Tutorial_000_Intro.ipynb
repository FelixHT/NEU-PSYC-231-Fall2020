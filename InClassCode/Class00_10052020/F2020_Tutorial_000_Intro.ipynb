{
 "cells": [
  {
   "cell_type": "markdown",
   "metadata": {},
   "source": [
    "# Brief intro to jupyter notebooks + first lines of code\n",
    "-  [for more general background see this overview of jupyter](https://www.datacamp.com/community/tutorials/tutorial-jupyter-notebook)\n",
    "- [markdown basics for nice formatting](https://jupyter-notebook.readthedocs.io/en/stable/examples/Notebook/Working%20With%20Markdown%20Cells.html)\n",
    "- [another good markdown cheatsheet](https://medium.com/ibm-data-science-experience/markdown-for-jupyter-notebooks-cheatsheet-386c05aeebed)\n",
    "-  [yet another good markdown cheat sheet](https://github.com/adam-p/markdown-here/wiki/Markdown-Cheatsheet)\n",
    "- [making colorful markdown cells](https://about.gitlab.com/handbook/product/technical-writing/markdown-guide/#colorful-sections)\n",
    "-  [info on line and cell magics](http://nbviewer.jupyter.org/github/ipython/ipython/blob/master/examples/IPython%20Kernel/Cell%20Magics.ipynb)\n",
    "- [another good overview of iPython magics](https://ipython.readthedocs.io/en/stable/interactive/magics.html)\n",
    "- [matplotlib info (basic setup stuff)](http://nbviewer.jupyter.org/github/ipython/ipython/blob/master/examples/IPython%20Kernel/Plotting%20in%20the%20Notebook.ipynb)\n",
    "- [more advanced notes on making clean looking notebooks, esp for sharing with non-technical audience](http://nbviewer.jupyter.org/github/csaid/polished_notebooks/blob/master/notebook_polished.ipynb)"
   ]
  },
  {
   "cell_type": "markdown",
   "metadata": {},
   "source": [
    "# This is a markdown cell (or text cell). Here we can write notes about the purpose of the code, we can include links to external references. Text cells use the \"Markdown language\" to format the text. \n",
    "\n",
    "## next sub-heading with smaller text - use for the next level of notes in your code below\n",
    "\n",
    "### sub-sub-heading\n",
    "\n",
    "#### sub-sub-sub-heading, etc.\n",
    "\n",
    "* bullet points\n",
    "* another bullet point\n",
    "  * an indented sub-bullet point \n",
    "\n",
    "**if you want bold text** \n",
    "\n",
    "*italic text*\n",
    "\n",
    "***bold italic text***\n",
    "\n",
    "[this is a link to a useful guide to the basics of markdown](https://www.markdownguide.org/basic-syntax/)"
   ]
  },
  {
   "cell_type": "markdown",
   "metadata": {},
   "source": [
    "<div class=\"alert alert-info\"> \n",
    "Jupyter notebooks are a way of distributing code and showing the results of analyses inline. Promotes easy sharing of code, easy to reproduce results from other researchers. But most importantly, in my view, is that these serve as an interactive lab notebook - you can keep your notes and the code to implement your ideas all in one place\n",
    "</div>\n",
    "\n",
    "### The notebook runs a kernel that allows you to execute code (python (iPython) for us, but also Julia, R, and other languages possible...even possible to mix and match languages).\n",
    "\n",
    "### Can also incorporate (i.e. call/excute) python scripts written in a more traditional IDE. This is handy if you have a frequently re-used function or if you have a large chunk of code that you want to put somewhere else to improve readability of the notebook. We'll play a bit with PyCharm later in the course to see how this works, but there are many good IDEs out there. "
   ]
  },
  {
   "cell_type": "markdown",
   "metadata": {},
   "source": [
    "## Some basics: \n",
    "* esc enters 'command mode', so does cntrl+m\n",
    "\n",
    "* then you can use individual shortcut keys\n",
    "\n",
    "    * b - insert new cell below \n",
    "    * a - insert new cell above\n",
    "    * m - convert cell to markdown\n",
    "    * y - convert cell to code\n",
    "    * dd - delete cell (be careful!)\n",
    "    * CTRL + ENTER - execute current cell\n",
    "    * SHIFT + ENTER - execute current cell and move to the next one\n",
    "\n",
    "others...\n",
    "\n",
    "[see this page for some handy tips/shortcuts](https://www.dataquest.io/blog/jupyter-notebook-tips-tricks-shortcuts/)"
   ]
  },
  {
   "cell_type": "markdown",
   "metadata": {
    "colab_type": "text",
    "id": "iVJcNLEv8OEg"
   },
   "source": [
    "## Start coding...'string' objects. \n",
    "* A string is a collection of characters, surrounded by either single or double quotes"
   ]
  },
  {
   "cell_type": "code",
   "execution_count": 37,
   "metadata": {
    "colab": {},
    "colab_type": "code",
    "id": "DrvZWAtMtI2p"
   },
   "outputs": [
    {
     "name": "stdout",
     "output_type": "stream",
     "text": [
      "hello padawan learners!\n"
     ]
    }
   ],
   "source": [
    "print(\"hello padawan learners!\")"
   ]
  },
  {
   "cell_type": "code",
   "execution_count": 38,
   "metadata": {
    "colab": {},
    "colab_type": "code",
    "id": "1gFSKgCW1LlP"
   },
   "outputs": [
    {
     "name": "stdout",
     "output_type": "stream",
     "text": [
      "hello python!\n"
     ]
    }
   ],
   "source": [
    "message = \"hello python!\"\n",
    "print(message)"
   ]
  },
  {
   "cell_type": "markdown",
   "metadata": {
    "colab_type": "text",
    "id": "fSMlDT_gG2vu"
   },
   "source": [
    "### Using ' vs \"\n",
    "* Note that this is a sub-sub-heading (under the sub-heading of our discussion on strings), so we use '###'"
   ]
  },
  {
   "cell_type": "code",
   "execution_count": 39,
   "metadata": {
    "colab": {},
    "colab_type": "code",
    "id": "IbzQyP113cGq"
   },
   "outputs": [
    {
     "name": "stdout",
     "output_type": "stream",
     "text": [
      "hello python! we'll be back next monday\n"
     ]
    }
   ],
   "source": [
    "message = \"hello python! we'll be back next monday\"\n",
    "print(message)"
   ]
  },
  {
   "cell_type": "code",
   "execution_count": 40,
   "metadata": {
    "colab": {},
    "colab_type": "code",
    "id": "Q8xJXbmTG_x5"
   },
   "outputs": [
    {
     "name": "stdout",
     "output_type": "stream",
     "text": [
      "hello python! we'll be back next monday\n"
     ]
    }
   ],
   "source": [
    "# vs. \n",
    "message = \"hello python! we'll be back next monday\"\n",
    "print(message)\n",
    "\n",
    "# fix is to use \"\" on the outside, then you can use ' on the inside"
   ]
  },
  {
   "cell_type": "markdown",
   "metadata": {
    "colab_type": "text",
    "id": "n72v5txYeWWF"
   },
   "source": [
    "## Using methods of an object (in this case a string object)\n",
    "* A method is like a function, but associated with a specific object"
   ]
  },
  {
   "cell_type": "code",
   "execution_count": 41,
   "metadata": {
    "colab": {},
    "colab_type": "code",
    "id": "218I8I5M38CS"
   },
   "outputs": [
    {
     "name": "stdout",
     "output_type": "stream",
     "text": [
      "cAtherIne tALLman\n",
      "Catherine Tallman\n"
     ]
    }
   ],
   "source": [
    "name = \"cAtherIne tALLman\"\n",
    "print(name)\n",
    "print(name.title())"
   ]
  },
  {
   "cell_type": "markdown",
   "metadata": {
    "colab_type": "text",
    "id": "bgijxnN3egad"
   },
   "source": [
    "### Why using print here? Because otherwise you just get the output of the last line - if you want to force output, then use the print statement"
   ]
  },
  {
   "cell_type": "code",
   "execution_count": 42,
   "metadata": {
    "colab": {},
    "colab_type": "code",
    "id": "aDUXq4mk40RQ"
   },
   "outputs": [
    {
     "name": "stdout",
     "output_type": "stream",
     "text": [
      "catherine tallman\n",
      "CATHERINE TALLMAN\n"
     ]
    }
   ],
   "source": [
    "print(name.lower())\n",
    "print(name.upper())"
   ]
  },
  {
   "cell_type": "markdown",
   "metadata": {
    "colab_type": "text",
    "id": "yrOBLgodfWbU"
   },
   "source": [
    "## Concatenating strings (sticking a bunch of strings together)"
   ]
  },
  {
   "cell_type": "code",
   "execution_count": 43,
   "metadata": {
    "colab": {},
    "colab_type": "code",
    "id": "q520tCV75Mc-"
   },
   "outputs": [
    {
     "name": "stdout",
     "output_type": "stream",
     "text": [
      "Ricardo Lozoya Was Here!\n"
     ]
    }
   ],
   "source": [
    "first_name = \"ricardo\"\n",
    "last_name = \"lozoya\"\n",
    "full_name = first_name + \" \" + last_name + \" was here!\"\n",
    "print(full_name.title())"
   ]
  },
  {
   "cell_type": "markdown",
   "metadata": {
    "colab_type": "text",
    "id": "yrOBLgodfWbU"
   },
   "source": [
    "## An alternative method\n",
    "* use a comma and see what happens..."
   ]
  },
  {
   "cell_type": "code",
   "execution_count": 44,
   "metadata": {
    "colab": {},
    "colab_type": "code",
    "id": "q520tCV75Mc-"
   },
   "outputs": [
    {
     "name": "stdout",
     "output_type": "stream",
     "text": [
      "Caroline Jia was here!\n"
     ]
    }
   ],
   "source": [
    "first_name = \"Caroline\"\n",
    "last_name = \"Jia\"\n",
    "print(first_name, last_name, \"was here!\")"
   ]
  },
  {
   "cell_type": "markdown",
   "metadata": {
    "colab_type": "text",
    "id": "gfnINiyjf75o"
   },
   "source": [
    "## Some handy methods for data cleaning - make uniform str types...\n",
    "* useful for 'cleaning' non-uniform user input or labels in big data sets\n",
    "* this is by no means an exhaustive list of methods for the str object type! but if you can use these, then you should be able to figure out how to use many of the other methods"
   ]
  },
  {
   "cell_type": "code",
   "execution_count": 45,
   "metadata": {
    "colab": {},
    "colab_type": "code",
    "id": "yuJ1ifxs67z9"
   },
   "outputs": [
    {
     "name": "stdout",
     "output_type": "stream",
     "text": [
      " Melonie\n",
      "Melonie    \n",
      "Melonie\n"
     ]
    }
   ],
   "source": [
    "name = \" Melonie    \"\n",
    "\n",
    "print(name.rstrip())\n",
    "print(name.lstrip())\n",
    "print(name.strip())"
   ]
  },
  {
   "cell_type": "markdown",
   "metadata": {},
   "source": [
    "##  You can make any variable type a part of a string using placeholders and the format method\n",
    "* The format method fills the {}s (i.e. the 'placeholders') with whatever variables you pass to it, regardless of what type the variable is\n",
    "* You must pass the format method the same number of arguments (seperated by commas) as the number of placeholders in the string"
   ]
  },
  {
   "cell_type": "code",
   "execution_count": 46,
   "metadata": {},
   "outputs": [
    {
     "name": "stdout",
     "output_type": "stream",
     "text": [
      "John ate 3 bats. Actually 3.75, but the decimal doesn't count!\n"
     ]
    }
   ],
   "source": [
    "print(\"John ate {} {}. Actually {}, but the decimal doesn't count!\".format(3, 'bats', 15/4))"
   ]
  },
  {
   "cell_type": "markdown",
   "metadata": {
    "colab_type": "text",
    "id": "nbBFpDnuFSOz"
   },
   "source": [
    "## Numerical data types and basic operators [list of operators](https://www.w3schools.com/python/python_operators.asp)\n",
    "* integers are ***whole*** numbers"
   ]
  },
  {
   "cell_type": "code",
   "execution_count": 47,
   "metadata": {
    "colab": {},
    "colab_type": "code",
    "id": "ZVCwt3lk8M6M"
   },
   "outputs": [
    {
     "name": "stdout",
     "output_type": "stream",
     "text": [
      "5\n",
      "1\n",
      "6\n",
      "8\n"
     ]
    }
   ],
   "source": [
    "# int data types (objects)\n",
    "# integers are WHOLE numbers\n",
    "x = 2\n",
    "y = 3\n",
    "\n",
    "# basic operations\n",
    "print(x+y)    # add\n",
    "print(y-x)    # subtract\n",
    "print(x*y)    # multiply\n",
    "print(x**y)   # raise to a power!"
   ]
  },
  {
   "cell_type": "markdown",
   "metadata": {
    "colab_type": "text",
    "id": "DpX4ZHkQgXYU"
   },
   "source": [
    "## Floating point numbers"
   ]
  },
  {
   "cell_type": "code",
   "execution_count": 48,
   "metadata": {
    "colab": {},
    "colab_type": "code",
    "id": "aexlGXFGCC8X"
   },
   "outputs": [
    {
     "name": "stdout",
     "output_type": "stream",
     "text": [
      "0.6666666666666666\n"
     ]
    }
   ],
   "source": [
    "# this returns a floating point number (decimal)\n",
    "print(x/y)"
   ]
  },
  {
   "cell_type": "code",
   "execution_count": 49,
   "metadata": {},
   "outputs": [
    {
     "name": "stdout",
     "output_type": "stream",
     "text": [
      "0\n"
     ]
    }
   ],
   "source": [
    "# this performs integer division and returns an int without the remainder\n",
    "print(x//y)"
   ]
  },
  {
   "cell_type": "code",
   "execution_count": 50,
   "metadata": {},
   "outputs": [
    {
     "name": "stdout",
     "output_type": "stream",
     "text": [
      "1\n"
     ]
    }
   ],
   "source": [
    "# this returns the remainder as an integer\n",
    "print(y % x)"
   ]
  },
  {
   "cell_type": "markdown",
   "metadata": {
    "colab_type": "text",
    "id": "2mjS8gDyE0JX"
   },
   "source": [
    "## How do you figure out what the variable type is (what kind of object)? "
   ]
  },
  {
   "cell_type": "code",
   "execution_count": 51,
   "metadata": {
    "colab": {},
    "colab_type": "code",
    "id": "5cRsFCD5EoBJ"
   },
   "outputs": [
    {
     "name": "stdout",
     "output_type": "stream",
     "text": [
      "<class 'int'>\n"
     ]
    }
   ],
   "source": [
    "print(type(x))"
   ]
  },
  {
   "cell_type": "markdown",
   "metadata": {
    "colab_type": "text",
    "id": "HkUF-0S9CwLg"
   },
   "source": [
    "## Type casting - changing a variable from one type to another"
   ]
  },
  {
   "cell_type": "code",
   "execution_count": 52,
   "metadata": {
    "colab": {},
    "colab_type": "code",
    "id": "q1aHy83n-CPX"
   },
   "outputs": [
    {
     "name": "stdout",
     "output_type": "stream",
     "text": [
      "this is the year: 2019\n"
     ]
    }
   ],
   "source": [
    "# type casting - first int to string\n",
    "year = 2019\n",
    "print(\"this is the year: \" + str(year))"
   ]
  },
  {
   "cell_type": "markdown",
   "metadata": {
    "colab_type": "text",
    "id": "ifgtis7GgsvC"
   },
   "source": [
    "### Then string to int "
   ]
  },
  {
   "cell_type": "code",
   "execution_count": 53,
   "metadata": {
    "colab": {},
    "colab_type": "code",
    "id": "3PqhjAOogwrr"
   },
   "outputs": [
    {
     "name": "stdout",
     "output_type": "stream",
     "text": [
      "In 10 years it will be:  2029\n"
     ]
    }
   ],
   "source": [
    "# then string to an int\n",
    "year = \"2019\"\n",
    "print(\"In 10 years it will be: \", int(year) + 10)"
   ]
  },
  {
   "cell_type": "markdown",
   "metadata": {
    "colab_type": "text",
    "id": "Iwp1FT4-Ejwp"
   },
   "source": [
    "### You can convert from one type to another with the int(), float(), complex()\n",
    "* be careful though as **sometimes there are significant consequences!**\n",
    "  * for example, casting a float to an int will cause everything to the right of the decimal place to be truncated"
   ]
  },
  {
   "cell_type": "code",
   "execution_count": 54,
   "metadata": {
    "colab": {},
    "colab_type": "code",
    "id": "4HL9Ct80EmIn"
   },
   "outputs": [
    {
     "name": "stdout",
     "output_type": "stream",
     "text": [
      "2\n"
     ]
    }
   ],
   "source": [
    "# make a floating point number and then type cast as an int to see what happens\n",
    "x = 2.9\n",
    "print(int(x)) # does not ROUND!!! truncates"
   ]
  },
  {
   "cell_type": "markdown",
   "metadata": {},
   "source": [
    "## List object - a collection that is ordered and changeable. Allows duplicate members.\n",
    "* 0 is the first element (how far do you have to move in the array to find the first element? 0!)"
   ]
  },
  {
   "cell_type": "code",
   "execution_count": 55,
   "metadata": {},
   "outputs": [
    {
     "name": "stdout",
     "output_type": "stream",
     "text": [
      "pria\n",
      "sunyoung\n",
      "So\n"
     ]
    }
   ],
   "source": [
    "# introduction to lists - in this case a list of strings!\n",
    "names = ['pria', 'so', 'sunyoung', 'janna']\n",
    "\n",
    "# we start indexing with 0!!!\n",
    "# so this is the first name\n",
    "print(names[0])\n",
    "\n",
    "# this is the 3rd name...etc\n",
    "print(names[2])\n",
    "\n",
    "# apply a method while indexing and printing\n",
    "print(names[1].title())"
   ]
  },
  {
   "cell_type": "markdown",
   "metadata": {},
   "source": [
    "### If you want to find the last element in a list and you don't know how long the list is, then just start indexing from the end.\n",
    "* -1 is the last element\n",
    "* -3 is the third to last, etc."
   ]
  },
  {
   "cell_type": "code",
   "execution_count": 56,
   "metadata": {},
   "outputs": [
    {
     "name": "stdout",
     "output_type": "stream",
     "text": [
      "janna\n",
      "so\n"
     ]
    }
   ],
   "source": [
    "print(names[-1])\n",
    "print(names[-3])"
   ]
  },
  {
   "cell_type": "markdown",
   "metadata": {},
   "source": [
    "## sorting a list\n",
    "* this is a **method** - or a function that is specifically associated with this object type\n",
    "* first by actually modifying the list\n",
    "* without modifying"
   ]
  },
  {
   "cell_type": "code",
   "execution_count": 57,
   "metadata": {},
   "outputs": [
    {
     "name": "stdout",
     "output_type": "stream",
     "text": [
      "['canyon', 'giant', 'trek']\n"
     ]
    }
   ],
   "source": [
    "bikes = ['giant', 'canyon', 'trek']\n",
    "\n",
    "# perm sort a list in alpha order\n",
    "# this will alter 'names' (can't undo)\n",
    "bikes.sort()\n",
    "print(bikes)"
   ]
  },
  {
   "cell_type": "markdown",
   "metadata": {},
   "source": [
    "### sort without modifying using the sorted function\n",
    "* note that sorted is a general use **function** that can be used across multiple object types, not just for lists"
   ]
  },
  {
   "cell_type": "code",
   "execution_count": 58,
   "metadata": {},
   "outputs": [
    {
     "name": "stdout",
     "output_type": "stream",
     "text": [
      "['grace', 'iris', 'jennifer', 'norah']\n",
      "['jennifer', 'norah', 'iris', 'grace']\n"
     ]
    }
   ],
   "source": [
    "names = ['jennifer', 'norah', 'iris', 'grace']\n",
    "# sort without modifying\n",
    "print(sorted(names))\n",
    "\n",
    "# print names again and you'll see that it is unchanged...\n",
    "print(names)"
   ]
  },
  {
   "cell_type": "markdown",
   "metadata": {},
   "source": [
    "## Remove (delete) an item from a list"
   ]
  },
  {
   "cell_type": "code",
   "execution_count": 59,
   "metadata": {},
   "outputs": [
    {
     "name": "stdout",
     "output_type": "stream",
     "text": [
      "['john', 'vy', 'sunyoung', 'maggie']\n",
      "['vy', 'sunyoung', 'maggie']\n"
     ]
    }
   ],
   "source": [
    "# redefine names list\n",
    "names = ['john', 'vy', 'sunyoung', 'maggie']\n",
    "\n",
    "print(names)\n",
    "\n",
    "# remove items from a list\n",
    "# remove first item...\n",
    "del names[0]\n",
    "print(names)"
   ]
  },
  {
   "cell_type": "markdown",
   "metadata": {},
   "source": [
    "## Pop an item from a list and assign to another variable"
   ]
  },
  {
   "cell_type": "code",
   "execution_count": 60,
   "metadata": {},
   "outputs": [
    {
     "name": "stdout",
     "output_type": "stream",
     "text": [
      "maggie\n",
      "['john', 'vy', 'sunyoung']\n"
     ]
    }
   ],
   "source": [
    "# redefine names list\n",
    "names = ['john', 'vy', 'sunyoung', 'maggie']\n",
    "\n",
    "# pop the last item (default behavior) \n",
    "last_name = names.pop()\n",
    "print(last_name)\n",
    "\n",
    "print(names)"
   ]
  },
  {
   "cell_type": "code",
   "execution_count": 61,
   "metadata": {},
   "outputs": [
    {
     "name": "stdout",
     "output_type": "stream",
     "text": [
      "john\n",
      "['vy', 'sunyoung', 'maggie']\n"
     ]
    }
   ],
   "source": [
    "# can also pass index to pop() method (e.g. pop(1))\n",
    "# redefine names list\n",
    "names = ['john', 'vy', 'sunyoung', 'maggie']\n",
    "\n",
    "# pop the 1st item\n",
    "first_name = names.pop(0)\n",
    "print(first_name)\n",
    "\n",
    "print(names)"
   ]
  },
  {
   "cell_type": "markdown",
   "metadata": {},
   "source": [
    "## Change an item in a list\n",
    "* Lists are **mutable**"
   ]
  },
  {
   "cell_type": "code",
   "execution_count": 62,
   "metadata": {},
   "outputs": [
    {
     "name": "stdout",
     "output_type": "stream",
     "text": [
      "['vy', 'sunyoung', 'Mingzheng']\n"
     ]
    }
   ],
   "source": [
    "names[2] = 'Mingzheng'\n",
    "print(names)"
   ]
  },
  {
   "cell_type": "markdown",
   "metadata": {},
   "source": [
    "### Lists can contain multiple variable types"
   ]
  },
  {
   "cell_type": "code",
   "execution_count": 63,
   "metadata": {},
   "outputs": [
    {
     "name": "stdout",
     "output_type": "stream",
     "text": [
      "['vy', 'sunyoung', 0]\n",
      "<class 'str'>\n",
      "<class 'int'>\n"
     ]
    }
   ],
   "source": [
    "names[2] = 0\n",
    "print(names)\n",
    "\n",
    "# print out the types to show that the list now contains both strings and ints\n",
    "print(type(names[0]))\n",
    "print(type(names[-1]))"
   ]
  },
  {
   "cell_type": "markdown",
   "metadata": {},
   "source": [
    "### Lists can go inside lists (and other object types can be embedded as well - next time)\n",
    "* don't get too carried away - remember the importance of readability!"
   ]
  },
  {
   "cell_type": "code",
   "execution_count": 64,
   "metadata": {},
   "outputs": [
    {
     "name": "stdout",
     "output_type": "stream",
     "text": [
      "['vy', 'sunyoung', ['john', 'andrew', 'tim']]\n",
      "andrew\n"
     ]
    }
   ],
   "source": [
    "names[2] = ['john', 'andrew', 'tim']\n",
    "print(names)\n",
    "\n",
    "# indexing into sub-lists!!!\n",
    "print(names[2][1])"
   ]
  },
  {
   "cell_type": "markdown",
   "metadata": {},
   "source": [
    "## A few other neat tricks...\n",
    "* split: string to list\n",
    "* join: list to string\n",
    "* multiplying strings: fun trick"
   ]
  },
  {
   "cell_type": "code",
   "execution_count": 65,
   "metadata": {},
   "outputs": [
    {
     "name": "stdout",
     "output_type": "stream",
     "text": [
      "['hi', 'there', 'bob']\n",
      "hi\n"
     ]
    }
   ],
   "source": [
    "# go from a string to a list via splitting\n",
    "s = 'hi there bob'\n",
    "\n",
    "# now split into a list object that you can index\n",
    "l = s.split() # default splits based on ' ' or blank space\n",
    "print(l)\n",
    "print(l[0])\n",
    "\n",
    "# note - doesn't matter how many spaces are between the words!"
   ]
  },
  {
   "cell_type": "code",
   "execution_count": 66,
   "metadata": {},
   "outputs": [
    {
     "name": "stdout",
     "output_type": "stream",
     "text": [
      "['hi there', ' bob']\n",
      "hi there\n"
     ]
    }
   ],
   "source": [
    "# splitting a string with a specific separator\n",
    "s = 'hi there, bob'\n",
    "l = s.split(',')\n",
    "print(l)\n",
    "print(l[0])"
   ]
  },
  {
   "cell_type": "code",
   "execution_count": 67,
   "metadata": {},
   "outputs": [
    {
     "name": "stdout",
     "output_type": "stream",
     "text": [
      "hi, there, bob\n",
      "h\n"
     ]
    }
   ],
   "source": [
    "# join: list to string\n",
    "s = ['hi', 'there', 'bob']\n",
    "ns = ', '.join(s)\n",
    "print(ns)\n",
    "print(ns[0])"
   ]
  },
  {
   "cell_type": "markdown",
   "metadata": {},
   "source": [
    "### Multiplying strings! Weird, but cool..."
   ]
  },
  {
   "cell_type": "code",
   "execution_count": 68,
   "metadata": {},
   "outputs": [
    {
     "name": "stdout",
     "output_type": "stream",
     "text": [
      "Everything is about MeMeMeMeMeMeMeMeMeMeMeMeMeMeMe!!!!!\n"
     ]
    }
   ],
   "source": [
    "s = 'Me'\n",
    "print(\"Everything is about \" + s*15 + '!!!!!')"
   ]
  },
  {
   "cell_type": "markdown",
   "metadata": {},
   "source": [
    "## Notes about legal variable names\n",
    "* A variable cannot start with a number.\n",
    "* Variables are case-sensitive (MyVar and myvar and myVar are all different!)\n",
    "* A variable has to start with a letter or an underscore\n",
    "* A variable can only contain letters, numbers, and underscores"
   ]
  },
  {
   "cell_type": "code",
   "execution_count": 69,
   "metadata": {},
   "outputs": [
    {
     "name": "stdout",
     "output_type": "stream",
     "text": [
      "10\n",
      "100\n"
     ]
    }
   ],
   "source": [
    "# these two variables might be pronounced the same, but they are different! \n",
    "# python respects capitalization...so the cap \"V\" in the second makes it a \n",
    "# totally different object than the first variable\n",
    "myvar = 10\n",
    "myVar = 100\n",
    "print(myvar)\n",
    "print(myVar)"
   ]
  },
  {
   "cell_type": "markdown",
   "metadata": {},
   "source": [
    "### can't start with a number"
   ]
  },
  {
   "cell_type": "code",
   "execution_count": 70,
   "metadata": {},
   "outputs": [
    {
     "ename": "SyntaxError",
     "evalue": "invalid syntax (<ipython-input-70-51bb9eeee5b3>, line 1)",
     "output_type": "error",
     "traceback": [
      "\u001b[0;36m  File \u001b[0;32m\"<ipython-input-70-51bb9eeee5b3>\"\u001b[0;36m, line \u001b[0;32m1\u001b[0m\n\u001b[0;31m    1var = 10\u001b[0m\n\u001b[0m       ^\u001b[0m\n\u001b[0;31mSyntaxError\u001b[0m\u001b[0;31m:\u001b[0m invalid syntax\n"
     ]
    }
   ],
   "source": [
    "1var = 10"
   ]
  },
  {
   "cell_type": "markdown",
   "metadata": {},
   "source": [
    "## Magic commands - iPython supports a set of commands that are handy to use (including some matlab-like functions)...for now just introducing 'line' magic commands, but will talk a bit about 'cell' magic commands later. "
   ]
  },
  {
   "cell_type": "code",
   "execution_count": 71,
   "metadata": {},
   "outputs": [
    {
     "name": "stdout",
     "output_type": "stream",
     "text": [
      "75 ns ± 0.768 ns per loop (mean ± std. dev. of 7 runs, 10000000 loops each)\n"
     ]
    }
   ],
   "source": [
    "# on of my favorites for estimating the duration of operations - good for identifying slow parts and making code\n",
    "# more effecient. \n",
    "\n",
    "%timeit a_simple_list = [0,1,2,3,4,5,6,7,8,9,10]\n",
    "\n",
    "# execute code in a separate python script - can save space in a code-heavy notebook\n",
    "# %run"
   ]
  },
  {
   "cell_type": "code",
   "execution_count": 72,
   "metadata": {},
   "outputs": [
    {
     "data": {
      "application/json": {
       "cell": {
        "!": "OSMagics",
        "HTML": "Other",
        "SVG": "Other",
        "bash": "Other",
        "capture": "ExecutionMagics",
        "debug": "ExecutionMagics",
        "file": "Other",
        "html": "DisplayMagics",
        "javascript": "DisplayMagics",
        "js": "DisplayMagics",
        "latex": "DisplayMagics",
        "markdown": "DisplayMagics",
        "perl": "Other",
        "prun": "ExecutionMagics",
        "pypy": "Other",
        "python": "Other",
        "python2": "Other",
        "python3": "Other",
        "ruby": "Other",
        "script": "ScriptMagics",
        "sh": "Other",
        "svg": "DisplayMagics",
        "sx": "OSMagics",
        "system": "OSMagics",
        "time": "ExecutionMagics",
        "timeit": "ExecutionMagics",
        "writefile": "OSMagics"
       },
       "line": {
        "alias": "OSMagics",
        "alias_magic": "BasicMagics",
        "autoawait": "AsyncMagics",
        "autocall": "AutoMagics",
        "automagic": "AutoMagics",
        "autosave": "KernelMagics",
        "bookmark": "OSMagics",
        "cat": "Other",
        "cd": "OSMagics",
        "clear": "KernelMagics",
        "colors": "BasicMagics",
        "conda": "PackagingMagics",
        "config": "ConfigMagics",
        "connect_info": "KernelMagics",
        "cp": "Other",
        "debug": "ExecutionMagics",
        "dhist": "OSMagics",
        "dirs": "OSMagics",
        "doctest_mode": "BasicMagics",
        "ed": "Other",
        "edit": "KernelMagics",
        "env": "OSMagics",
        "gui": "BasicMagics",
        "hist": "Other",
        "history": "HistoryMagics",
        "killbgscripts": "ScriptMagics",
        "ldir": "Other",
        "less": "KernelMagics",
        "lf": "Other",
        "lk": "Other",
        "ll": "Other",
        "load": "CodeMagics",
        "load_ext": "ExtensionMagics",
        "loadpy": "CodeMagics",
        "logoff": "LoggingMagics",
        "logon": "LoggingMagics",
        "logstart": "LoggingMagics",
        "logstate": "LoggingMagics",
        "logstop": "LoggingMagics",
        "ls": "Other",
        "lsmagic": "BasicMagics",
        "lx": "Other",
        "macro": "ExecutionMagics",
        "magic": "BasicMagics",
        "man": "KernelMagics",
        "matplotlib": "PylabMagics",
        "mkdir": "Other",
        "more": "KernelMagics",
        "mv": "Other",
        "notebook": "BasicMagics",
        "page": "BasicMagics",
        "pastebin": "CodeMagics",
        "pdb": "ExecutionMagics",
        "pdef": "NamespaceMagics",
        "pdoc": "NamespaceMagics",
        "pfile": "NamespaceMagics",
        "pinfo": "NamespaceMagics",
        "pinfo2": "NamespaceMagics",
        "pip": "PackagingMagics",
        "popd": "OSMagics",
        "pprint": "BasicMagics",
        "precision": "BasicMagics",
        "prun": "ExecutionMagics",
        "psearch": "NamespaceMagics",
        "psource": "NamespaceMagics",
        "pushd": "OSMagics",
        "pwd": "OSMagics",
        "pycat": "OSMagics",
        "pylab": "PylabMagics",
        "qtconsole": "KernelMagics",
        "quickref": "BasicMagics",
        "recall": "HistoryMagics",
        "rehashx": "OSMagics",
        "reload_ext": "ExtensionMagics",
        "rep": "Other",
        "rerun": "HistoryMagics",
        "reset": "NamespaceMagics",
        "reset_selective": "NamespaceMagics",
        "rm": "Other",
        "rmdir": "Other",
        "run": "ExecutionMagics",
        "save": "CodeMagics",
        "sc": "OSMagics",
        "set_env": "OSMagics",
        "store": "StoreMagics",
        "sx": "OSMagics",
        "system": "OSMagics",
        "tb": "ExecutionMagics",
        "time": "ExecutionMagics",
        "timeit": "ExecutionMagics",
        "unalias": "OSMagics",
        "unload_ext": "ExtensionMagics",
        "who": "NamespaceMagics",
        "who_ls": "NamespaceMagics",
        "whos": "NamespaceMagics",
        "xdel": "NamespaceMagics",
        "xmode": "BasicMagics"
       }
      },
      "text/plain": [
       "Available line magics:\n",
       "%alias  %alias_magic  %autoawait  %autocall  %automagic  %autosave  %bookmark  %cat  %cd  %clear  %colors  %conda  %config  %connect_info  %cp  %debug  %dhist  %dirs  %doctest_mode  %ed  %edit  %env  %gui  %hist  %history  %killbgscripts  %ldir  %less  %lf  %lk  %ll  %load  %load_ext  %loadpy  %logoff  %logon  %logstart  %logstate  %logstop  %ls  %lsmagic  %lx  %macro  %magic  %man  %matplotlib  %mkdir  %more  %mv  %notebook  %page  %pastebin  %pdb  %pdef  %pdoc  %pfile  %pinfo  %pinfo2  %pip  %popd  %pprint  %precision  %prun  %psearch  %psource  %pushd  %pwd  %pycat  %pylab  %qtconsole  %quickref  %recall  %rehashx  %reload_ext  %rep  %rerun  %reset  %reset_selective  %rm  %rmdir  %run  %save  %sc  %set_env  %store  %sx  %system  %tb  %time  %timeit  %unalias  %unload_ext  %who  %who_ls  %whos  %xdel  %xmode\n",
       "\n",
       "Available cell magics:\n",
       "%%!  %%HTML  %%SVG  %%bash  %%capture  %%debug  %%file  %%html  %%javascript  %%js  %%latex  %%markdown  %%perl  %%prun  %%pypy  %%python  %%python2  %%python3  %%ruby  %%script  %%sh  %%svg  %%sx  %%system  %%time  %%timeit  %%writefile\n",
       "\n",
       "Automagic is ON, % prefix IS NOT needed for line magics."
      ]
     },
     "execution_count": 72,
     "metadata": {},
     "output_type": "execute_result"
    }
   ],
   "source": [
    "# list out all available line magic commands\n",
    "%lsmagic"
   ]
  }
 ],
 "metadata": {
  "kernelspec": {
   "display_name": "Python 3",
   "language": "python",
   "name": "python3"
  },
  "language_info": {
   "codemirror_mode": {
    "name": "ipython",
    "version": 3
   },
   "file_extension": ".py",
   "mimetype": "text/x-python",
   "name": "python",
   "nbconvert_exporter": "python",
   "pygments_lexer": "ipython3",
   "version": "3.7.9"
  }
 },
 "nbformat": 4,
 "nbformat_minor": 4
}
