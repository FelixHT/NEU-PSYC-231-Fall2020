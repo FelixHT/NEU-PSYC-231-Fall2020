{
 "cells": [
  {
   "cell_type": "code",
   "execution_count": 10,
   "metadata": {},
   "outputs": [],
   "source": [
    "import numpy as np\n",
    "import matplotlib.pyplot as plt"
   ]
  },
  {
   "cell_type": "markdown",
   "metadata": {},
   "source": [
    "### 1) Make an array of the first 12 even numbers with shape (2, 6). Print the resulting array following each step below.\n",
    "\n",
    "* Make every other value of the second row odd by subtracting 1 from it.\n",
    "* Reverse the columns of the first row.\n",
    "* Make the last value of the entire array the sum of all the other numbers beside the last value.\n",
    "* Normalize each column of the array so that it sums to 1."
   ]
  },
  {
   "cell_type": "code",
   "execution_count": 2,
   "metadata": {},
   "outputs": [
    {
     "name": "stdout",
     "output_type": "stream",
     "text": [
      "[[ 2  4  6  8 10 12]\n",
      " [14 16 18 20 22 24]]\n",
      "[[ 2  4  6  8 10 12]\n",
      " [13 16 17 20 21 24]]\n",
      "[[12 10  8  6  4  2]\n",
      " [13 16 17 20 21 24]]\n",
      "[[ 12  10   8   6   4   2]\n",
      " [ 13  16  17  20  21 129]]\n",
      "[[0.48       0.38461538 0.32       0.23076923 0.16       0.01526718]\n",
      " [0.52       0.61538462 0.68       0.76923077 0.84       0.98473282]]\n"
     ]
    }
   ],
   "source": [
    "even = 2 * np.arange(12).reshape(2, 6) + 2\n",
    "\n",
    "\n",
    "print(even)\n",
    "even[1, ::2] -= 1\n",
    "print(even)\n",
    "\n",
    "# reverse\n",
    "even[0, :] = even[0, ::-1]\n",
    "print(even)\n",
    "\n",
    "# make last value of the entire array the sum of all the other numbers beside it\n",
    "even[-1, -1] = np.sum(even) - even[-1, -1]\n",
    "print(even)\n",
    "\n",
    "# normalize each column of the array so that it sums to 1\n",
    "even = even / np.sum(even,axis=0)\n",
    "print(even)"
   ]
  },
  {
   "cell_type": "markdown",
   "metadata": {},
   "source": [
    " ### 2) Create a two-dimensional array called *pts*, where the first columns contains 100 values of x linearly spaced from -5 to 5 and the second column contains the values for y = 0.5x - 1.\n",
    " \n",
    " * Print the shape of *pts* to ensure you have created the array correctly.\n",
    " * Introduce uniformly distribution noise from (-1, 3) into the y values of the *pts*.\n",
    " * Ensure that the noise you introduced was distributed as you intended by plotting a histogram of the values you used for the noise.\n",
    " * Create a scatter plot using the first and second columns of the *pts* array as x and y, respectively. Plot the line y = 0.5x - 1 on top of the scatter plot. Explain why the line does not appear to be the best fit to the points."
   ]
  },
  {
   "cell_type": "code",
   "execution_count": 8,
   "metadata": {},
   "outputs": [
    {
     "name": "stdout",
     "output_type": "stream",
     "text": [
      "(100,)\n",
      "(100, 2)\n"
     ]
    },
    {
     "data": {
      "text/plain": [
       "[<matplotlib.lines.Line2D at 0x7fe297541d68>]"
      ]
     },
     "execution_count": 8,
     "metadata": {},
     "output_type": "execute_result"
    },
    {
     "data": {
      "image/png": "[encoded data removed]",
      "text/plain": [
       "<Figure size 432x288 with 1 Axes>"
      ]
     },
     "metadata": {
      "needs_background": "light"
     },
     "output_type": "display_data"
    },
    {
     "data": {
      "image/png": "[encoded data removed]",
      "text/plain": [
       "<Figure size 432x288 with 1 Axes>"
      ]
     },
     "metadata": {
      "needs_background": "light"
     },
     "output_type": "display_data"
    }
   ],
   "source": [
    "x = np.linspace(-5, 5, 100)\n",
    "y = 0.5 * x - 1\n",
    "print(y.shape)\n",
    "pts = np.column_stack((x, y))\n",
    "print(pts.shape)\n",
    "\n",
    "noise = 4 * np.random.rand(100) - 1\n",
    "pts[:, 1] = pts[:, 1] + noise\n",
    "plt.hist(noise)\n",
    "\n",
    "x2, y2 = pts[:, 0], pts[:, 1]\n",
    "plt.figure()\n",
    "plt.scatter(x2, y2)\n",
    "plt.plot(x, y, 'r')"
   ]
  },
  {
   "cell_type": "markdown",
   "metadata": {},
   "source": [
    "### 3) This will require a bit of googling around on your part. Make an array using linspace that goes from 0 to 360 in 180 steps. \n",
    "* Find all numbers in the array that are greater than 20\n",
    "* Find all numbers in the array that less than 160 and greater than 45\n",
    "* Find all numbers greater than 20 and less than 40 and assign to variable x. Then find all numbers that are greater than 60 and less than 81 and assign to variable y. \n",
    "    * Use an if...else statement and a boolean test to see if x and y are the same length. If they are, then multiply each element of x with the corresponding element in y. Do this first with a loop and then using the numpy equivalent. If x and y are not the same length then crop the longer of the two so that they are and then do the element by element multipication using a for loop and then using the numpy equivalent. A good implementation of this will handle all cases if you change the range of values assigned to x and y (i.e. it will handle when x is longer than y and when y is longer than x). \n",
    "* **Worth 5,000 bonus points**: which method, for loop vs numpy way, is faster? Google \"cell magic timeit\". Hint: when using the cell magic timeit, you'll need to do all variable assignments in the cell that you're timing (i.e. you'll need to assign x, y again in that cell)"
   ]
  },
  {
   "cell_type": "code",
   "execution_count": 40,
   "metadata": {},
   "outputs": [
    {
     "name": "stdout",
     "output_type": "stream",
     "text": [
      "[1617.92703099 1824.21272744 2038.58805905 2261.05302581 2491.60762773\n",
      " 2730.2518648  2976.98573702 3231.80924441 3494.72238694 3765.72516463]\n"
     ]
    }
   ],
   "source": [
    "z = np.linspace(0,360,180)\n",
    "\n",
    "# part 1\n",
    "x = z[(z>20)]\n",
    "# print(x)\n",
    "\n",
    "# part 2\n",
    "x = z[(z<160)&(z>45)]\n",
    "# print(x)\n",
    "\n",
    "# part 3\n",
    "x = z[((z>20) & (z<40))]\n",
    "y = z[(z>80) & (z<101)]\n",
    "\n",
    "# way one, with for loops\n",
    "if len(x)==len(y):\n",
    "    out = np.full(len(x), np.nan)\n",
    "    for cnt in np.arange(len(x)):\n",
    "        out[cnt] = x[cnt]*y[cnt]\n",
    "else:\n",
    "    # crop the longer...\n",
    "    if len(x)>len(y):\n",
    "        x = x[:len(y)]\n",
    "    elif len(y)>len(x):\n",
    "        y = y[:len(x)]\n",
    "\n",
    "    # then loop \n",
    "    out = np.full(len(x), np.nan)\n",
    "    for cnt in np.arange(len(x)):\n",
    "        out[cnt] = x[cnt]*y[cnt]    \n",
    "        \n",
    "        \n",
    "# way two, without for loops\n",
    "if len(x)==len(y):\n",
    "    out = np.multiply(x,y)\n",
    "else:\n",
    "    # crop the longer...\n",
    "    if len(x)>len(y):\n",
    "        x = x[:len(y)]\n",
    "    elif len(y)>len(x):\n",
    "        y = y[:len(x)]\n",
    "\n",
    "    # then loop \n",
    "    out = np.multiply(x,y)"
   ]
  },
  {
   "cell_type": "code",
   "execution_count": 60,
   "metadata": {},
   "outputs": [
    {
     "name": "stdout",
     "output_type": "stream",
     "text": [
      "19.9 µs ± 532 ns per loop (mean ± std. dev. of 7 runs, 10000 loops each)\n"
     ]
    }
   ],
   "source": [
    "%timeit x = np.linspace(0,1000,100)"
   ]
  },
  {
   "cell_type": "code",
   "execution_count": 61,
   "metadata": {},
   "outputs": [
    {
     "name": "stdout",
     "output_type": "stream",
     "text": [
      "40.4 µs ± 2.1 µs per loop (mean ± std. dev. of 7 runs, 10000 loops each)\n"
     ]
    }
   ],
   "source": [
    "%%timeit\n",
    "\n",
    "z = np.linspace(0,360,180)\n",
    "# part 3\n",
    "x = z[(z>20) & (z<40)]\n",
    "y = z[(z>80) & (z<101)]\n",
    "\n",
    "# way one, with for loops\n",
    "if len(x)==len(y):\n",
    "    out = np.full(len(x), np.nan)\n",
    "    for cnt in np.arange(len(x)):\n",
    "        out[cnt] = x[cnt]*y[cnt]\n",
    "else:\n",
    "    # crop the longer...\n",
    "    if len(x)>len(y):\n",
    "        x = x[:len(y)]\n",
    "    elif len(y)>len(x):\n",
    "        y = y[:len(x)]\n",
    "\n",
    "    # then loop \n",
    "    out = np.full(len(x), np.nan)\n",
    "    for cnt in np.arange(len(x)):\n",
    "        out[cnt] = x[cnt]*y[cnt] "
   ]
  },
  {
   "cell_type": "code",
   "execution_count": 62,
   "metadata": {},
   "outputs": [
    {
     "name": "stdout",
     "output_type": "stream",
     "text": [
      "29.9 µs ± 1.91 µs per loop (mean ± std. dev. of 7 runs, 10000 loops each)\n"
     ]
    }
   ],
   "source": [
    "%%timeit\n",
    "z = np.linspace(0,360,180)\n",
    "# part 3\n",
    "x = z[(z>20) & (z<40)]\n",
    "y = z[(z>80) & (z<101)]\n",
    "\n",
    "# way two, without for loops\n",
    "if len(x)==len(y):\n",
    "    out = np.multiply(x,y)\n",
    "else:\n",
    "    # crop the longer...\n",
    "    if len(x)>len(y):\n",
    "        x = x[:len(y)]\n",
    "    elif len(y)>len(x):\n",
    "        y = y[:len(x)]\n",
    "\n",
    "    # then loop \n",
    "    out = np.multiply(x,y)"
   ]
  },
  {
   "cell_type": "code",
   "execution_count": 63,
   "metadata": {},
   "outputs": [
    {
     "name": "stdout",
     "output_type": "stream",
     "text": [
      "1.49 ms ± 35 µs per loop (mean ± std. dev. of 7 runs, 1000 loops each)\n"
     ]
    }
   ],
   "source": [
    "%%timeit\n",
    "\n",
    "z = np.linspace(0,100,5000)\n",
    "x = np.linspace(0,100,5000)\n",
    "\n",
    "out = np.zeros(len(z))\n",
    "for n in range(len(z)):\n",
    "    out[n] = z[n]*x[n]\n"
   ]
  },
  {
   "cell_type": "code",
   "execution_count": 64,
   "metadata": {},
   "outputs": [
    {
     "name": "stdout",
     "output_type": "stream",
     "text": [
      "63.5 µs ± 1.1 µs per loop (mean ± std. dev. of 7 runs, 10000 loops each)\n"
     ]
    }
   ],
   "source": [
    "%%timeit\n",
    "\n",
    "z = np.linspace(0,100,5000)\n",
    "x = np.linspace(0,100,5000)\n",
    "\n",
    "out = np.multiply(z,x)"
   ]
  },
  {
   "cell_type": "markdown",
   "metadata": {},
   "source": [
    "### 4) Bonus: You are an administrative assistant for a small company. As part of your job as an administrative assistant, you are in charge of payroll for the company's five employees. Each of the employees receives a 3% raise each year. Every five years that an employee is a part of the company, they receive a 5,000 USD increase to their salary on top of the 3% raise (the 3% is applied before the 5,000 USD bonus). \n",
    "\n",
    "The five employees are:\n",
    "* Petunia has been at the company 3 years and her salary is 55,000 USD\n",
    "* Severus has been at the company 16 years and his salary is 85,000 USD\n",
    "* Albus has been at the company 30 years and his salary is 115,000 USD\n",
    "* Ginny has been at the company 8 years and her salary is 75,000 USD\n",
    "* Harry just started at the company and his salary is 50,000 USD\n",
    "\n",
    "**Note**: We asked you to solve this problem using lists last week. See if you can solve this problem more quickly using NumPy.\n",
    "\n",
    "Here are your tasks:\n",
    "* a) Calculate and print the salary of each employee 5 years from now.\n",
    "* b) Determine and  print what the total payroll will be in 20 years, assuming nobody new starts and nobody leaves the company.\n",
    "* c) **Challenge Problem**: Calculate and print the starting salary of each employee, assuming the same protocol for raises had been in place all along."
   ]
  },
  {
   "cell_type": "code",
   "execution_count": 19,
   "metadata": {},
   "outputs": [
    {
     "name": "stdout",
     "output_type": "stream",
     "text": [
      "Petunia's salary will be 63760.07 USD 5 years from now.\n",
      "Severus's salary will be 98538.30 USD 5 years from now.\n",
      "Albus's salary will be 159862.20 USD 5 years from now.\n",
      "Ginny's salary will be 86945.56 USD 5 years from now.\n",
      "Harry's salary will be 84509.38 USD 5 years from now.\n",
      "\n",
      "The total payroll in 20 years will be 955026.01 USD.\n",
      "\n",
      "Petunia's starting salary was 50197.01 USD.\n",
      "Severus's starting salary was 41064.51 USD.\n",
      "Albus's starting salary was 27909.89 USD.\n",
      "Ginny's starting salary was 54487.08 USD.\n",
      "Harry's starting salary was 50000.00 USD.\n"
     ]
    }
   ],
   "source": [
    "arr = np.array([[3.0, 55.0],[16, 85.0],[30, 115.0],[8, 75.0], [0, 50.0]])\n",
    "names = ['Petunia', 'Severus', 'Albus', 'Ginny', 'Harry']\n",
    "\n",
    "five_yrs = arr.copy()\n",
    "for _ in range(5):\n",
    "    five_yrs[:, 1] *= 1.03\n",
    "    five_yrs[five_yrs[:, 0] % 5 == 0, 1] += 5\n",
    "for employee, (_, salary) in zip(names, five_yrs):\n",
    "    print(\"{}'s salary will be {:.2f} USD 5 years from now.\".format(employee, salary*1000))\n",
    "    \n",
    "twenty_yrs = arr.copy()\n",
    "for _ in range(20):\n",
    "    twenty_yrs[:, 1] *= 1.03\n",
    "    twenty_yrs[twenty_yrs[:, 0] % 5 == 0, 1] += 5\n",
    "print('\\nThe total payroll in 20 years will be {:.2f} USD.\\n'.format(np.sum(twenty_yrs[:,1])*1000))\n",
    "\n",
    "starting = arr.copy()\n",
    "while sum(starting[:, 0]) > 0:\n",
    "    starting[np.logical_and(starting[:, 0] % 5 == 0, starting[:, 0] != 0), 1] -= 5\n",
    "    starting[starting[:, 0] != 0, 1] *= 0.97\n",
    "    starting[starting[:, 0] != 0, 0] -= 1\n",
    "for employee, (_, salary) in zip(names, starting):\n",
    "    print(\"{}'s starting salary was {:.2f} USD.\".format(employee, salary*1000))"
   ]
  },
  {
   "cell_type": "code",
   "execution_count": 56,
   "metadata": {},
   "outputs": [
    {
     "name": "stdout",
     "output_type": "stream",
     "text": [
      "[[ 0  2  4  6  8 10]\n",
      " [12 14 16 18 20 22]]\n",
      "[[ 0  2  4  6  8 10]\n",
      " [11 14 15 18 19 22]]\n"
     ]
    }
   ],
   "source": [
    "arr = np.arange(0,24,2).reshape(2,6)\n",
    "\n",
    "print(arr)\n",
    "\n",
    "x = np.subtract(arr[1,::2],1)\n",
    "\n",
    "arr[1,::2] = np.subtract(arr[1,::2],1)\n",
    "\n",
    "\n",
    "print(arr)"
   ]
  }
 ],
 "metadata": {
  "kernelspec": {
   "display_name": "Python 3",
   "language": "python",
   "name": "python3"
  },
  "language_info": {
   "codemirror_mode": {
    "name": "ipython",
    "version": 3
   },
   "file_extension": ".py",
   "mimetype": "text/x-python",
   "name": "python",
   "nbconvert_exporter": "python",
   "pygments_lexer": "ipython3",
   "version": "3.6.8"
  }
 },
 "nbformat": 4,
 "nbformat_minor": 4
}
