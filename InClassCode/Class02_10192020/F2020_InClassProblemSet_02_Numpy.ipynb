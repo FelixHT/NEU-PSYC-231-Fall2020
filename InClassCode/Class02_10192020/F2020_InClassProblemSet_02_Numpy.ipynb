{
 "cells": [
  {
   "cell_type": "code",
   "execution_count": 2,
   "metadata": {
    "ExecuteTime": {
     "end_time": "2020-10-19T21:35:05.058249Z",
     "start_time": "2020-10-19T21:35:03.662446Z"
    }
   },
   "outputs": [],
   "source": [
    "import numpy as np\n",
    "import matplotlib.pyplot as plt"
   ]
  },
  {
   "cell_type": "markdown",
   "metadata": {},
   "source": [
    "### 1) Make an array of the first 12 even numbers with shape (2, 6). Print the resulting array following each step below.\n",
    "\n",
    "* Make every other value of the second row odd by subtracting 1 from it.\n",
    "* Reverse the columns of the first row.\n",
    "* Make the last value of the entire array the sum of all the other numbers beside the last value.\n",
    "* Normalize each column of the array so that it sums to 1."
   ]
  },
  {
   "cell_type": "code",
   "execution_count": 20,
   "metadata": {
    "ExecuteTime": {
     "end_time": "2020-10-19T21:44:11.530499Z",
     "start_time": "2020-10-19T21:44:11.523137Z"
    }
   },
   "outputs": [
    {
     "name": "stdout",
     "output_type": "stream",
     "text": [
      "[[ 0.  1.  2.  3.  4.  5.]\n",
      " [ 5.  7.  7.  9.  9. 11.]]\n",
      "[[ 5.  4.  3.  2.  1.  0.]\n",
      " [ 5.  7.  7.  9.  9. 11.]]\n",
      "[[ 5.  4.  3.  2.  1.  0.]\n",
      " [ 5.  7.  7.  9.  9. 52.]]\n",
      "[[0.33333333 0.26666667 0.2        0.13333333 0.06666667 0.        ]\n",
      " [0.05617978 0.07865169 0.07865169 0.1011236  0.1011236  0.58426966]]\n"
     ]
    }
   ],
   "source": [
    "arr = np.arange(12.).reshape((2,6))\n",
    "\n",
    "arr[1,::2] -= 1\n",
    "print(arr)\n",
    "\n",
    "arr[0,:] = arr[0,::-1]\n",
    "print(arr)\n",
    "\n",
    "arr[1,-1] = np.cumsum(arr)[-2]\n",
    "print(arr)\n",
    "\n",
    "arr[0] = arr[0] / np.sum(arr[0])\n",
    "arr[1] = arr[1] / np.sum(arr[1])\n",
    "print(arr)"
   ]
  },
  {
   "cell_type": "markdown",
   "metadata": {},
   "source": [
    " ### 2) Create a two-dimensional array called *pts*, where the first columns contains 100 values of x linearly spaced from -5 to 5 and the second column contains the values for y = 0.5x - 1.\n",
    " \n",
    " * Print the shape of *pts* to ensure you have created the array correctly.\n",
    " * Introduce uniformly distribution noise from (-1, 3) into the y values of the *pts*.\n",
    " * Ensure that the noise you introduced was distributed as you intended by plotting a histogram of the values you used for the noise.\n",
    " * Create a scatter plot using the first and second columns of the *pts* array as x and y, respectively. Plot the line y = 0.5x - 1 on top of the scatter plot. Explain why the line does not appear to be the best fit to the points."
   ]
  },
  {
   "cell_type": "code",
   "execution_count": 35,
   "metadata": {
    "ExecuteTime": {
     "end_time": "2020-10-19T21:52:29.626506Z",
     "start_time": "2020-10-19T21:52:29.326262Z"
    }
   },
   "outputs": [
    {
     "data": {
      "image/png": "[encoded data removed]",
      "text/plain": [
       "<Figure size 432x288 with 1 Axes>"
      ]
     },
     "metadata": {
      "needs_background": "light"
     },
     "output_type": "display_data"
    },
    {
     "data": {
      "text/plain": [
       "[<matplotlib.lines.Line2D at 0x7fc870f9ef10>]"
      ]
     },
     "execution_count": 35,
     "metadata": {},
     "output_type": "execute_result"
    },
    {
     "data": {
      "image/png": "[encoded data removed]",
      "text/plain": [
       "<Figure size 432x288 with 1 Axes>"
      ]
     },
     "metadata": {
      "needs_background": "light"
     },
     "output_type": "display_data"
    }
   ],
   "source": [
    "x = np.linspace(-5,5,100)\n",
    "f = lambda x: 0.5*x -1\n",
    "pts = [x,f(x)]\n",
    "\n",
    "noise = np.random.uniform(-1,3,100) \n",
    "pts[1] = pts[1] + noise\n",
    "\n",
    "plt.hist(pts)\n",
    "plt.show()\n",
    "\n",
    "plt.scatter(pts[0], pts[1])\n",
    "plt.plot(x,f(x))\n",
    "plt.show()\n",
    "# the line is not the best fist as the added noise is not symmetric around 0"
   ]
  },
  {
   "cell_type": "markdown",
   "metadata": {},
   "source": [
    "### 3) This will require a bit of googling around on your part. Make an array using linspace that goes from 0 to 360 in 180 steps. \n",
    "* Find all numbers in the array that are greater than 20\n",
    "* Find all numbers in the array that less than 160 and greater than 45\n",
    "* Find all numbers greater than 20 and less than 40 and assign to variable x. Then find all numbers that are greater than 60 and less than 81 and assign to variable y. \n",
    "    * Use an if...else statement and a boolean test to see if x and y are the same length. If they are, then multiply each element of x with the corresponding element in y. Do this first with a loop and then using the numpy equivalent. If x and y are not the same length then crop the longer of the two so that they are and then do the element by element multipication using a for loop and then using the numpy equivalent. A good implementation of this will handle all cases if you change the range of values assigned to x and y (i.e. it will handle when x is longer than y and when y is longer than x). \n",
    "* **Worth 5,000 bonus points**: which method, for loop vs numpy way, is faster? Google \"cell magic timeit\". Hint: when using the cell magic timeit, you'll need to do all variable assignments in the cell that you're timing (i.e. you'll need to assign x, y again in that cell)"
   ]
  },
  {
   "cell_type": "code",
   "execution_count": 41,
   "metadata": {
    "ExecuteTime": {
     "end_time": "2020-10-19T22:01:50.224145Z",
     "start_time": "2020-10-19T22:01:50.216915Z"
    }
   },
   "outputs": [
    {
     "name": "stdout",
     "output_type": "stream",
     "text": [
      "[ 46.25698324  48.26815642  50.27932961  52.29050279  54.30167598\n",
      "  56.31284916  58.32402235  60.33519553  62.34636872  64.3575419\n",
      "  66.36871508  68.37988827  70.39106145  72.40223464  74.41340782\n",
      "  76.42458101  78.43575419  80.44692737  82.45810056  84.46927374\n",
      "  86.48044693  88.49162011  90.5027933   92.51396648  94.52513966\n",
      "  96.53631285  98.54748603 100.55865922 102.5698324  104.58100559\n",
      " 106.59217877 108.60335196 110.61452514 112.62569832 114.63687151\n",
      " 116.64804469 118.65921788 120.67039106 122.68156425 124.69273743\n",
      " 126.70391061 128.7150838  130.72625698 132.73743017 134.74860335\n",
      " 136.75977654 138.77094972 140.78212291 142.79329609 144.80446927\n",
      " 146.81564246 148.82681564 150.83798883 152.84916201 154.8603352\n",
      " 156.87150838 158.88268156]\n",
      "[20.11173184 22.12290503 24.13407821 26.1452514  28.15642458 30.16759777\n",
      " 32.17877095 34.18994413 36.20111732 38.2122905 ]\n",
      "[60.33519553 62.34636872 64.3575419  66.36871508 68.37988827 70.39106145\n",
      " 72.40223464 74.41340782 76.42458101 78.43575419 80.44692737]\n"
     ]
    }
   ],
   "source": [
    "arr = np.linspace(0,360,180)\n",
    "\n",
    "num = arr[(arr<160)*(arr>45)]\n",
    "print(num)\n",
    "\n",
    "\n",
    "x = arr[(arr>20)*(arr<40)]\n",
    "y = arr[(arr>60)*(arr<81)]\n",
    "print(x)\n",
    "print(y)\n",
    "\n",
    "if len(x) == len(y):\n",
    "#     arr1 = np.array([x[i]*y[i] for i in range(len(x))])\n",
    "    arr2 = x * y\n",
    "else:\n",
    "    n = np.min((len(x),len(y)))\n",
    "    x=x[:n]\n",
    "    y=y[:n]\n",
    "#     arr1 = np.array([x[i]*y[i] for i in range(len(x))])\n",
    "    arr2 = x * y"
   ]
  },
  {
   "cell_type": "code",
   "execution_count": 39,
   "metadata": {
    "ExecuteTime": {
     "end_time": "2020-10-19T22:00:51.415389Z",
     "start_time": "2020-10-19T22:00:51.411044Z"
    }
   },
   "outputs": [
    {
     "data": {
      "text/plain": [
       "array([20.11173184, 22.12290503, 24.13407821, 26.1452514 , 28.15642458,\n",
       "       30.16759777, 32.17877095, 34.18994413, 36.20111732, 38.2122905 ])"
      ]
     },
     "execution_count": 39,
     "metadata": {},
     "output_type": "execute_result"
    }
   ],
   "source": [
    "# using a jupyter extension:\n",
    "# for loop in 42ms\n",
    "# np in 8ms"
   ]
  },
  {
   "cell_type": "code",
   "execution_count": null,
   "metadata": {},
   "outputs": [],
   "source": []
  },
  {
   "cell_type": "code",
   "execution_count": null,
   "metadata": {},
   "outputs": [],
   "source": []
  },
  {
   "cell_type": "code",
   "execution_count": null,
   "metadata": {},
   "outputs": [],
   "source": []
  },
  {
   "cell_type": "markdown",
   "metadata": {},
   "source": [
    "### 4) Bonus: You are an administrative assistant for a small company. As part of your job as an administrative assistant, you are in charge of payroll for the company's five employees. Each of the employees receives a 3% raise each year. Every five years that an employee is a part of the company, they receive a 5,000 USD increase to their salary on top of the 3% raise (the 3% is applied before the 5,000 USD bonus). \n",
    "\n",
    "The five employees are:\n",
    "* Petunia has been at the company 3 years and her salary is 55,000 USD\n",
    "* Severus has been at the company 16 years and his salary is 85,000 USD\n",
    "* Albus has been at the company 30 years and his salary is 115,000 USD\n",
    "* Ginny has been at the company 8 years and her salary is 75,000 USD\n",
    "* Harry just started at the company and his salary is 50,000 USD\n",
    "\n",
    "**Note**: We asked you to solve this problem using lists last week. See if you can solve this problem more quickly using NumPy.\n",
    "\n",
    "Here are your tasks:\n",
    "* a) Calculate and print the salary of each employee 5 years from now.\n",
    "* b) Determine and  print what the total payroll will be in 20 years, assuming nobody new starts and nobody leaves the company.\n",
    "* c) **Challenge Problem**: Calculate and print the starting salary of each employee, assuming the same protocol for raises had been in place all along."
   ]
  },
  {
   "cell_type": "code",
   "execution_count": 157,
   "metadata": {
    "ExecuteTime": {
     "end_time": "2020-10-19T23:27:26.470019Z",
     "start_time": "2020-10-19T23:27:26.458009Z"
    }
   },
   "outputs": [
    {
     "name": "stdout",
     "output_type": "stream",
     "text": [
      "Petunia's salary will be 63760.07 USD 5 years from now.\n",
      "Severus's salary will be 98538.30 USD 5 years from now.\n",
      "Albus's salary will be 159862.20 USD 5 years from now.\n",
      "Ginny's salary will be 86945.56 USD 5 years from now.\n",
      "Harry's salary will be 57963.70 USD 5 years from now.\n",
      "\n",
      "The total payroll in 20 years will be 820674.14 USD.\n",
      "\n",
      "Petunia's starting salary was 50197.01 USD.\n",
      "Severus's starting salary was 41064.51 USD.\n",
      "Albus's starting salary was 27909.89 USD.\n",
      "Ginny's starting salary was 54487.08 USD.\n",
      "Harry's starting salary was 50000.00 USD.\n"
     ]
    }
   ],
   "source": [
    "arr = np.array([[3.0, 55.0],[16, 85.0],[30, 115.0],[8, 75.0], [0, 50.0]])\n",
    "names = ['Petunia', 'Severus', 'Albus', 'Ginny', 'Harry']\n",
    "\n",
    "five_yrs = arr.copy()\n",
    "for _ in range(5):\n",
    "    five_yrs[:, 1] *= 1.03\n",
    "    five_yrs[(five_yrs[:, 0] % 5 == 0)*(five_yrs[:, 0]!= 0), 1] += 5\n",
    "for employee, (_, salary) in zip(names, five_yrs):\n",
    "    print(\"{}'s salary will be {:.2f} USD 5 years from now.\".format(employee, salary*1000))\n",
    "    \n",
    "twenty_yrs = arr.copy()\n",
    "for _ in range(20):\n",
    "    twenty_yrs[:, 1] *= 1.03\n",
    "    twenty_yrs[(twenty_yrs[:, 0] % 5 == 0)*(twenty_yrs[:, 0]!= 0), 1] += 5\n",
    "print('\\nThe total payroll in 20 years will be {:.2f} USD.\\n'.format(np.sum(twenty_yrs[:,1])*1000))\n",
    "\n",
    "starting = arr.copy()\n",
    "while sum(starting[:, 0]) > 0:\n",
    "    starting[np.logical_and(starting[:, 0] % 5 == 0, starting[:, 0] != 0), 1] -= 5\n",
    "    starting[starting[:, 0] != 0, 1] *= 0.97\n",
    "    starting[starting[:, 0] != 0, 0] -= 1\n",
    "for employee, (_, salary) in zip(names, starting):\n",
    "    print(\"{}'s starting salary was {:.2f} USD.\".format(employee, salary*1000))"
   ]
  },
  {
   "cell_type": "code",
   "execution_count": null,
   "metadata": {},
   "outputs": [],
   "source": []
  },
  {
   "cell_type": "code",
   "execution_count": 133,
   "metadata": {
    "ExecuteTime": {
     "end_time": "2020-10-19T22:52:00.725517Z",
     "start_time": "2020-10-19T22:52:00.716717Z"
    }
   },
   "outputs": [
    {
     "name": "stdout",
     "output_type": "stream",
     "text": [
      "[[False False  True False  True]\n",
      " [False False False False False]\n",
      " [ True False False  True False]\n",
      " [False False False False False]\n",
      " [False  True False False False]]\n",
      "[[[  3.          55.        ]\n",
      "  [ 16.          85.        ]\n",
      "  [ 30.         120.        ]\n",
      "  [  8.          75.        ]\n",
      "  [  0.          55.        ]]\n",
      "\n",
      " [[  4.          56.65      ]\n",
      "  [ 17.          87.55      ]\n",
      "  [ 31.         118.45      ]\n",
      "  [  9.          77.25      ]\n",
      "  [  1.          51.5       ]]\n",
      "\n",
      " [[  5.          63.3495    ]\n",
      "  [ 18.          90.1765    ]\n",
      "  [ 32.         122.0035    ]\n",
      "  [ 10.          84.5675    ]\n",
      "  [  2.          53.045     ]]\n",
      "\n",
      " [[  6.          60.099985  ]\n",
      "  [ 19.          92.881795  ]\n",
      "  [ 33.         125.663605  ]\n",
      "  [ 11.          81.954525  ]\n",
      "  [  3.          54.63635   ]]\n",
      "\n",
      " [[  7.          61.90298455]\n",
      "  [ 20.         100.66824885]\n",
      "  [ 34.         129.43351315]\n",
      "  [ 12.          84.41316075]\n",
      "  [  4.          56.2754405 ]]]\n"
     ]
    }
   ],
   "source": [
    "arr = np.array([[3.0, 55.0],[16, 85.0],[30, 115.0],[8, 75.0], [0, 50.0]])\n",
    "names = ['Petunia', 'Severus', 'Albus', 'Ginny', 'Harry']\n",
    "\n",
    "# five_yrs = arr.copy()\n",
    "\n",
    "# for _ in range(5):\n",
    "#     five_yrs[:, 1] *= 1.03\n",
    "#     five_yrs[five_yrs[:, 0] % 5 == 0, 1] += 5\n",
    "# for employee, (_, salary) in zip(names, five_yrs):\n",
    "#     print(\"{}'s salary will be {:.2f} USD 5 years from now.\".format(employee, salary*1000))\n",
    "    \n",
    "# twenty_yrs = arr.copy()\n",
    "# for _ in range(20):\n",
    "#     twenty_yrs[:, 1] *= 1.03\n",
    "#     twenty_yrs\"[twenty_yrs[:, 0] % 5 == 0, 1] += 5\n",
    "# print('\\nThe total payroll in 20 years will be {:.2f} USD.\\n'.format(np.sum(twenty_yrs[:,1])*1000))\n",
    "\n",
    "# starting = arr.copy()\n",
    "# while sum(starting[:, 0]) > 0:\n",
    "#     starting[np.logical_and(starting[:, 0] % 5 == 0, starting[:, 0] != 0), 1] -= 5\n",
    "#     starting[starting[:, 0] != 0, 1] *= 0.97\n",
    "#     starting[starting[:, 0] != 0, 0] -= 1\n",
    "# for employee, (_, salary) in zip(names, starting):\n",
    "#     print(\"{}'s starting salary was {:.2f} USD.\".format(employee, salary*1000))\n",
    "\n",
    "\n",
    "a = np.tile(arr,(5,1,1))\n",
    "b = np.arange(5).repeat(5).reshape((5,5))\n",
    "a[:,:,0] +=b\n",
    "a[:,:,1] = a[:,:,1] * (1.03**b)\n",
    "\n",
    "c = a[:,:,0] % 5 == 0\n",
    "print(c)\n",
    "# print(a)\n",
    "a[:,:,1][c] += 5\n",
    "# print(a)\n",
    "d = np.argwhere(a[:,:,0] % 5 == 0)\n",
    "d[:,0] -=1\n",
    "d[d==-1] =0\n",
    "print(a)\n"
   ]
  },
  {
   "cell_type": "code",
   "execution_count": 132,
   "metadata": {
    "ExecuteTime": {
     "end_time": "2020-10-19T22:51:27.941756Z",
     "start_time": "2020-10-19T22:51:27.933774Z"
    }
   },
   "outputs": [
    {
     "ename": "TypeError",
     "evalue": "NumPy boolean array indexing assignment requires a 0 or 1-dimensional input, input has 3 dimensions",
     "output_type": "error",
     "traceback": [
      "\u001b[0;31m---------------------------------------------------------------------------\u001b[0m",
      "\u001b[0;31mTypeError\u001b[0m                                 Traceback (most recent call last)",
      "\u001b[0;32m<ipython-input-132-83996062fccf>\u001b[0m in \u001b[0;36m<module>\u001b[0;34m\u001b[0m\n\u001b[0;32m----> 1\u001b[0;31m \u001b[0ma\u001b[0m\u001b[0;34m[\u001b[0m\u001b[0;34m:\u001b[0m\u001b[0;34m,\u001b[0m\u001b[0;34m:\u001b[0m\u001b[0;34m,\u001b[0m\u001b[0;36m1\u001b[0m\u001b[0;34m]\u001b[0m\u001b[0;34m[\u001b[0m\u001b[0mc\u001b[0m\u001b[0;34m]\u001b[0m \u001b[0;34m=\u001b[0m \u001b[0ma\u001b[0m\u001b[0;34m[\u001b[0m\u001b[0;34m:\u001b[0m\u001b[0;34m,\u001b[0m\u001b[0;34m:\u001b[0m\u001b[0;34m,\u001b[0m\u001b[0;36m1\u001b[0m\u001b[0;34m]\u001b[0m\u001b[0;34m[\u001b[0m\u001b[0md\u001b[0m\u001b[0;34m[\u001b[0m\u001b[0md\u001b[0m\u001b[0;34m[\u001b[0m\u001b[0;34m:\u001b[0m\u001b[0;34m,\u001b[0m\u001b[0;36m0\u001b[0m\u001b[0;34m]\u001b[0m\u001b[0;34m>\u001b[0m\u001b[0;36m0\u001b[0m\u001b[0;34m]\u001b[0m\u001b[0;34m]\u001b[0m \u001b[0;34m*\u001b[0m\u001b[0;36m1.03\u001b[0m\u001b[0;34m\u001b[0m\u001b[0;34m\u001b[0m\u001b[0m\n\u001b[0m",
      "\u001b[0;31mTypeError\u001b[0m: NumPy boolean array indexing assignment requires a 0 or 1-dimensional input, input has 3 dimensions"
     ]
    }
   ],
   "source": [
    "a[:,:,1][d[d[:,0]>0]] *= 1.03\n",
    "after = a[1,:,:]"
   ]
  },
  {
   "cell_type": "code",
   "execution_count": 143,
   "metadata": {
    "ExecuteTime": {
     "end_time": "2020-10-19T23:12:32.900236Z",
     "start_time": "2020-10-19T23:12:32.895915Z"
    }
   },
   "outputs": [
    {
     "name": "stdout",
     "output_type": "stream",
     "text": [
      "[[0 2]\n",
      " [0 4]\n",
      " [2 0]\n",
      " [2 3]\n",
      " [4 1]]\n"
     ]
    }
   ],
   "source": [
    "a = np.tile(arr,(5,1,1))\n",
    "b = np.arange(5).repeat(5).reshape((5,5))\n",
    "a[:,:,0] +=b\n",
    "d = np.argwhere(a[:,:,0] % 5 == 0)\n",
    "\n",
    "# a[:,:,1] = a[:,:,1] * (1.03**b)\n",
    "\n",
    "# c = a[:,:,0] % 5 == 0\n",
    "# print(c)\n",
    "# # print(a)\n",
    "# a[:,:,1][c] += 5\n",
    "# # print(a)\n",
    "# d[:,0] -=1\n",
    "# d[d==-1] =0\n",
    "# print(a)"
   ]
  },
  {
   "cell_type": "code",
   "execution_count": 187,
   "metadata": {
    "ExecuteTime": {
     "end_time": "2020-10-19T23:45:00.249151Z",
     "start_time": "2020-10-19T23:45:00.243413Z"
    }
   },
   "outputs": [
    {
     "name": "stdout",
     "output_type": "stream",
     "text": [
      "[[  3.          69.06457409]\n",
      " [ 16.         104.16584037]\n",
      " [ 30.         139.11288892]\n",
      " [  8.          92.25005557]\n",
      " [  0.          62.96370372]]\n"
     ]
    }
   ],
   "source": [
    "arr = np.array([[3.0, 55.0],[16, 85.0],[30, 115.0],[8, 75.0], [0, 50.0]])\n",
    "names = ['Petunia', 'Severus', 'Albus', 'Ginny', 'Harry']\n",
    "def challenge(arr, years=5):\n",
    "    _ = (arr[:,0] -5)%5\n",
    "    _[arr[:,0]==0] = 5\n",
    "    arr[:,1] = np.multiply(arr[:,1], (1.03**_))\n",
    "    arr[:,1] += 5\n",
    "    arr[:,1] = np.multiply(arr[:,1], (1.03**np.abs(_-5)))\n",
    "    print(arr)\n",
    "    \n",
    "challenge(arr)"
   ]
  },
  {
   "cell_type": "code",
   "execution_count": null,
   "metadata": {
    "ExecuteTime": {
     "end_time": "2020-10-19T23:19:18.155169Z",
     "start_time": "2020-10-19T23:19:18.151617Z"
    }
   },
   "outputs": [],
   "source": []
  },
  {
   "cell_type": "code",
   "execution_count": null,
   "metadata": {
    "ExecuteTime": {
     "end_time": "2020-10-19T23:32:35.754875Z",
     "start_time": "2020-10-19T23:32:35.751189Z"
    }
   },
   "outputs": [],
   "source": []
  },
  {
   "cell_type": "code",
   "execution_count": null,
   "metadata": {
    "ExecuteTime": {
     "end_time": "2020-10-19T23:36:15.954114Z",
     "start_time": "2020-10-19T23:36:15.949746Z"
    }
   },
   "outputs": [],
   "source": []
  },
  {
   "cell_type": "code",
   "execution_count": null,
   "metadata": {},
   "outputs": [],
   "source": []
  }
 ],
 "metadata": {
  "kernelspec": {
   "display_name": "Python 3",
   "language": "python",
   "name": "python3"
  },
  "language_info": {
   "codemirror_mode": {
    "name": "ipython",
    "version": 3
   },
   "file_extension": ".py",
   "mimetype": "text/x-python",
   "name": "python",
   "nbconvert_exporter": "python",
   "pygments_lexer": "ipython3",
   "version": "3.7.9"
  }
 },
 "nbformat": 4,
 "nbformat_minor": 4
}
