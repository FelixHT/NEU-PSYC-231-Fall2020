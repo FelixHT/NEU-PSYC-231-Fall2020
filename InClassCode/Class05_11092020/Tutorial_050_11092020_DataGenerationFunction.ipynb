{
 "cells": [
  {
   "cell_type": "markdown",
   "metadata": {},
   "source": [
    "## Start with imports"
   ]
  },
  {
   "cell_type": "code",
   "execution_count": 1,
   "metadata": {},
   "outputs": [],
   "source": [
    "import numpy as np\n",
    "import matplotlib.pyplot as plt\n",
    "from scipy.linalg import eigh\n",
    "\n",
    "# Support vector classifier: scikit learn has all kinds of good stuff for this...\n",
    "from sklearn.svm import SVC \n",
    "from sklearn.metrics import accuracy_score\n",
    "\n",
    "# also define the default font we'll use for figures. \n",
    "fig_font = {'fontname':'Arial', 'size':'20'}"
   ]
  },
  {
   "cell_type": "markdown",
   "metadata": {},
   "source": [
    "## First lets set up some code to generate simulated data\n",
    "* We'll write a function that we can repeatedly call to generate data from two variables measured in two different experimental conditions. \n",
    "* For simplicity on function call, some of the variables will be hardcoded and simplified. Can expand this out later if you wanted. \n",
    "* Can see why multivariate analyses are so powerful when comparing a N-D representation to a univariate representation\n",
    "* In this example, we'll have two variables (e.g. neurons), and two experimental conditions\n",
    "* We want to see if the pattern of responses across the two variables systematically varies across conditions"
   ]
  },
  {
   "cell_type": "code",
   "execution_count": 2,
   "metadata": {},
   "outputs": [],
   "source": [
    "def gen_cor_data(num_data_pnts, mu_c1, mu_c2, plot):\n",
    "    \"\"\"\n",
    "\n",
    "    Input:  num_data_pnts = number of experimental trials, must be even!\n",
    "            mu_c1, mu_c2 = each is a 2 element array that sets the mean of each variable in each condition\n",
    "            plot = produce a scatter plot of the data when it is generated? \n",
    "    \"\"\"\n",
    "    \n",
    "    # number of variables, we'll keep it hardcoded at 2 because that makes it easy to \n",
    "    # visualize but you could modify this on your own later...\n",
    "    V = 2\n",
    "\n",
    "    # generate some random data drawn from a normal\n",
    "    \n",
    "    # first half of the data set - c1_data is response of the neurons \n",
    "    # in the first condition, and c2_data is the response in the second condition\n",
    "    \n",
    "    # first set up data for condition 1, with a different mean response in each neuron (defined by mu_c1)\n",
    "    c1_data = np.hstack((np.random.randn(num_data_pnts,1) + mu_c1[0], np.random.randn(num_data_pnts,1) + mu_c1[1]))\n",
    "    \n",
    "    # then set up data for condition 2, with a different mean response in each neuron (defined by mu_c2)\\\n",
    "    c2_data = np.hstack((np.random.randn(num_data_pnts,1) + mu_c2[0], np.random.randn(num_data_pnts,1) + mu_c2[1]))\n",
    "    \n",
    "    if plot:\n",
    "        # plot the data...\n",
    "        plt.scatter(c1_data[:,0], c1_data[:,1], color='b')\n",
    "        plt.scatter(c2_data[:,0], c2_data[:,1], color='r')\n",
    "        plt.xlabel('Resp Neuron 1', **fig_font)\n",
    "        plt.ylabel('Resp Neuron 2', **fig_font)\n",
    "        plt.legend(['Condition 1', 'Condition 2'])\n",
    "        plt.show()\n",
    "    \n",
    "    return c1_data, c2_data"
   ]
  }
 ],
 "metadata": {
  "kernelspec": {
   "display_name": "Python 3",
   "language": "python",
   "name": "python3"
  },
  "language_info": {
   "codemirror_mode": {
    "name": "ipython",
    "version": 3
   },
   "file_extension": ".py",
   "mimetype": "text/x-python",
   "name": "python",
   "nbconvert_exporter": "python",
   "pygments_lexer": "ipython3",
   "version": "3.6.8"
  }
 },
 "nbformat": 4,
 "nbformat_minor": 2
}
