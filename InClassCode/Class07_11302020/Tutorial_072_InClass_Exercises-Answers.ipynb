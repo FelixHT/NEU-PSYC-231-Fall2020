{
 "cells": [
  {
   "cell_type": "markdown",
   "metadata": {},
   "source": [
    "# In class exercise...Mutual Information 11.30.2020"
   ]
  },
  {
   "cell_type": "markdown",
   "metadata": {},
   "source": [
    "## Imports"
   ]
  },
  {
   "cell_type": "code",
   "execution_count": 1,
   "metadata": {},
   "outputs": [],
   "source": [
    "import numpy as np\n",
    "import matplotlib.pyplot as plt\n",
    "\n",
    "# also define the default font we'll use for figures. \n",
    "fig_font = {'fontname':'Arial', 'size':'20'}"
   ]
  },
  {
   "cell_type": "markdown",
   "metadata": {},
   "source": [
    "## First load in our EEG data like last time..."
   ]
  },
  {
   "cell_type": "code",
   "execution_count": 2,
   "metadata": {},
   "outputs": [
    {
     "name": "stdout",
     "output_type": "stream",
     "text": [
      "Shape of the big eeg data set:  (1600, 4102)\n",
      "Sample rate:  1024\n"
     ]
    }
   ],
   "source": [
    "# load the data...\n",
    "eeg = np.load('eeg_data01.npz')\n",
    "\n",
    "# get the different arrays like this...kind of like a structure in matlab. \n",
    "eeg['data']\n",
    "eeg['sr']\n",
    "eeg['tx']\n",
    "\n",
    "# and can query the attributes of the data like this...which will tell us that there 1600 trials and 4102 timepoints per trial sampled\n",
    "# at 1024Hz\n",
    "print('Shape of the big eeg data set: ', eeg['data'].shape)\n",
    "print('Sample rate: ', eeg['sr'])\n",
    "\n",
    "# and if you want to save some typing, especially because we only have a few variables, you reassign the different arrays like this\n",
    "data = eeg['data']\n",
    "sr = eeg['sr']\n",
    "tx = eeg['tx']"
   ]
  },
  {
   "cell_type": "markdown",
   "metadata": {},
   "source": [
    "## Make a vector that labels each trial as coming from experimental conditions 1,2,3,4"
   ]
  },
  {
   "cell_type": "code",
   "execution_count": 3,
   "metadata": {},
   "outputs": [],
   "source": [
    "N = data.shape[0]\n",
    "num_samp_cond = int(N/4)\n",
    "cond = np.hstack((np.ones(num_samp_cond), np.ones(num_samp_cond)*2, np.ones(num_samp_cond)*3, np.ones(num_samp_cond)*4))"
   ]
  },
  {
   "cell_type": "markdown",
   "metadata": {},
   "source": [
    "## Now avgerage the data from condition 2, avg the data from condition 3, and plot against the time axis (tx) - we're going to ignore conditions 1 and 4"
   ]
  },
  {
   "cell_type": "code",
   "execution_count": 4,
   "metadata": {},
   "outputs": [
    {
     "data": {
      "image/png": "[encoded data removed]",
      "text/plain": [
       "<Figure size 432x288 with 1 Axes>"
      ]
     },
     "metadata": {
      "needs_background": "light"
     },
     "output_type": "display_data"
    }
   ],
   "source": [
    "avg1 = np.mean(data[cond==2,:], axis=0)\n",
    "avg2 = np.mean(data[cond==3,:], axis=0)\n",
    "\n",
    "plt.plot(tx, avg1, color='r', linewidth=2)\n",
    "plt.plot(tx, avg2, color='k', linewidth=2)\n",
    "plt.show()"
   ]
  },
  {
   "cell_type": "markdown",
   "metadata": {},
   "source": [
    "## Then compute the MI between evoked responses and experimental condition in a specific time window greater than or equal to 1000ms and less than 1500ms post-stimulus onset\n",
    "* You have one discrete variable (cond, or experimental condition label)\n",
    "* You have the EEG data from each condition, which is a continuous variable\n",
    "* First compute the mean response across the time window for each trial of condition 2. This should give you a 400 element array with the mean from each trial across the time window. \n",
    "* Then compute the mean response across the time window for each trial of condition 3. \n",
    "* Then concatenate the two 400 element arrays to make one 800 element array\n",
    "* You might also want to create a new set of labels for each trial in your new concatenated array - can relabel conds 2 and 3 with a 0 and 1 for ease of looping...\n",
    "* Use only 10 bins for computing the pdfs...\n",
    "* Then compute the MI between experimental condition and EEG responses on each trial!"
   ]
  },
  {
   "cell_type": "code",
   "execution_count": 5,
   "metadata": {},
   "outputs": [
    {
     "data": {
      "text/plain": [
       "(800,)"
      ]
     },
     "execution_count": 5,
     "metadata": {},
     "output_type": "execute_result"
    }
   ],
   "source": [
    "# get the data from the time window...\n",
    "td = data[:, (tx>=1000) & (tx<1500)]\n",
    "\n",
    "# just data from cond 2, meaned across time window\n",
    "td2 = np.mean(td[cond==2,:], axis=1)\n",
    "td3 = np.mean(td[cond==3,:], axis=1)\n",
    "\n",
    "# concatenate\n",
    "resp = np.hstack((td2, td3))\n",
    "\n",
    "# check the size to be sure we did this right...\n",
    "resp.shape"
   ]
  },
  {
   "cell_type": "code",
   "execution_count": 6,
   "metadata": {},
   "outputs": [
    {
     "data": {
      "text/plain": [
       "(800,)"
      ]
     },
     "execution_count": 6,
     "metadata": {},
     "output_type": "execute_result"
    }
   ],
   "source": [
    "# make a new set of labels\n",
    "\n",
    "# first 1/2 of the data came from condition 1, second half from condition 2\n",
    "\n",
    "# ntrials in each condition\n",
    "ntrials = int(resp.shape[0]/2)\n",
    "\n",
    "stims = np.hstack((np.zeros(ntrials),np.ones(ntrials)))\n",
    "\n",
    "# check the shape\n",
    "stims.shape"
   ]
  },
  {
   "cell_type": "markdown",
   "metadata": {},
   "source": [
    "## Now compute Hy..."
   ]
  },
  {
   "cell_type": "code",
   "execution_count": 7,
   "metadata": {},
   "outputs": [
    {
     "name": "stdout",
     "output_type": "stream",
     "text": [
      "2.7318724527890335\n"
     ]
    }
   ],
   "source": [
    "nbins = 10\n",
    "\n",
    "py, edges = np.histogram(resp, bins=nbins)\n",
    "\n",
    "# normalize to unit area\n",
    "py = py / np.sum(py)\n",
    "\n",
    "# entropy of y\n",
    "Hy = -sum(py * np.log2(py))  \n",
    "\n",
    "print(Hy)"
   ]
  },
  {
   "cell_type": "markdown",
   "metadata": {},
   "source": [
    "## Now compute Hyx..."
   ]
  },
  {
   "cell_type": "code",
   "execution_count": 14,
   "metadata": {},
   "outputs": [
    {
     "name": "stdout",
     "output_type": "stream",
     "text": [
      "2.746605841280951\n"
     ]
    }
   ],
   "source": [
    "#MI = Hy - Hyx\n",
    "\n",
    "# probability of each discrete variable\n",
    "px = .5\n",
    "\n",
    "# get the unique values...\n",
    "uniquex = np.unique(stims)\n",
    "\n",
    "# then loop over all possible stims's to compute entropy of continuous 'resp' given each stim (Hyx)\n",
    "Hyx=0\n",
    "for j in np.arange(len(uniquex)):\n",
    "\n",
    "    # grab data from all trials where stims == j\n",
    "    y_x = resp[stims==j]\n",
    "    \n",
    "    # use binning to compute a pdf of y (resp) for this x (stims==j)\n",
    "    \n",
    "    # histogram\n",
    "    tmp_y_x, edges = np.histogram(y_x, bins=nbins)\n",
    "\n",
    "    # normalize to unit area (PDF)\n",
    "    tmp_y_x = tmp_y_x / np.sum(tmp_y_x)\n",
    "    \n",
    "    # then tally up entropy of y given each specific x multiplied by the probability of that x (px)\n",
    "    Hyx += px*(-sum( tmp_y_x * np.log2(tmp_y_x) ))\n",
    "    \n",
    "print(Hyx)"
   ]
  },
  {
   "cell_type": "markdown",
   "metadata": {},
   "source": [
    "## Now Compute MI - surprise??? What is weird about this?"
   ]
  },
  {
   "cell_type": "code",
   "execution_count": 9,
   "metadata": {},
   "outputs": [
    {
     "name": "stdout",
     "output_type": "stream",
     "text": [
      "-0.01473338849191741\n"
     ]
    }
   ],
   "source": [
    "MI = Hy - Hyx\n",
    "print(MI)"
   ]
  },
  {
   "cell_type": "markdown",
   "metadata": {},
   "source": [
    "## Part II: Bias correction\n",
    "* MI is biased in that small sample sizes lead to inaccurate estimates of PDFs, and that can sometimes lead to negative MI values (which should never happen in theory). \n",
    "* A common, and simple, approach, is to compute MI with shuffled condition labels (like randomization tests that we did many weeks back) and then subtract the shuffled MI from the actual MI. "
   ]
  },
  {
   "cell_type": "markdown",
   "metadata": {},
   "source": [
    "## Now repeat the above operations, but shuffle the condition label array and repeat the analysis many times (~500-1000 times). Plot the distribution of MI values that you get."
   ]
  },
  {
   "cell_type": "code",
   "execution_count": 10,
   "metadata": {},
   "outputs": [],
   "source": [
    "#MI = Hy - Hyx\n",
    "\n",
    "rands = 500\n",
    "\n",
    "# probability of each discrete variable\n",
    "px = .5\n",
    "\n",
    "# get the unique values...\n",
    "uniquex = np.unique(stims)\n",
    "\n",
    "# allocate array to store Hyx\n",
    "Hyx=np.zeros(rands)\n",
    "\n",
    "for i in np.arange(rands):\n",
    "    \n",
    "    # shuffle the stimulus condition labels. \n",
    "    tmp_stims = np.random.permutation(stims)\n",
    "    \n",
    "    # then loop over all possible stims's to compute entropy of continuous 'resp' given each stim (Hyx)\n",
    "    \n",
    "    for j in np.arange(len(uniquex)):\n",
    "\n",
    "        # grab data from all trials where stims == j\n",
    "        y_x = resp[tmp_stims==j]\n",
    "\n",
    "        # use binning to compute a pdf of y (resp) for this x (stims==j)\n",
    "\n",
    "        # histogram \n",
    "        tmp_y_x, edges = np.histogram(y_x, bins=nbins)\n",
    "\n",
    "        # normalize to unit area (PDF)\n",
    "        tmp_y_x = tmp_y_x / np.sum(tmp_y_x)\n",
    "\n",
    "        # then tally up entropy of y given each specific x multiplied by the probability of that x (px)\n",
    "        Hyx[i] += px*(-sum( tmp_y_x * np.log2(tmp_y_x) ))"
   ]
  },
  {
   "cell_type": "markdown",
   "metadata": {},
   "source": [
    "## Now subtract the mean of the shuffled MI values from your 'real' MI value...this will help correct for any bias that is introduced by a limited sample size"
   ]
  },
  {
   "cell_type": "code",
   "execution_count": 11,
   "metadata": {},
   "outputs": [
    {
     "name": "stdout",
     "output_type": "stream",
     "text": [
      "0.046547683026330944\n"
     ]
    }
   ],
   "source": [
    "bcMI = MI - (Hy - np.nanmean(Hyx))\n",
    "print(bcMI)"
   ]
  },
  {
   "cell_type": "code",
   "execution_count": 12,
   "metadata": {},
   "outputs": [
    {
     "data": {
      "text/plain": [
       "2.793153524307282"
      ]
     },
     "execution_count": 12,
     "metadata": {},
     "output_type": "execute_result"
    }
   ],
   "source": [
    "np.nanmean(Hyx)"
   ]
  }
 ],
 "metadata": {
  "kernelspec": {
   "display_name": "Python 3",
   "language": "python",
   "name": "python3"
  },
  "language_info": {
   "codemirror_mode": {
    "name": "ipython",
    "version": 3
   },
   "file_extension": ".py",
   "mimetype": "text/x-python",
   "name": "python",
   "nbconvert_exporter": "python",
   "pygments_lexer": "ipython3",
   "version": "3.6.8"
  }
 },
 "nbformat": 4,
 "nbformat_minor": 2
}
